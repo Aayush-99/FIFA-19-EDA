{
 "cells": [
  {
   "cell_type": "code",
   "execution_count": 1,
   "metadata": {},
   "outputs": [],
   "source": [
    "import numpy as np\n",
    "import pandas as pd"
   ]
  },
  {
   "cell_type": "code",
   "execution_count": 2,
   "metadata": {},
   "outputs": [
    {
     "data": {
      "text/plain": [
       "(18207, 89)"
      ]
     },
     "execution_count": 2,
     "metadata": {},
     "output_type": "execute_result"
    }
   ],
   "source": [
    "data = pd.read_csv('data.csv')\n",
    "data.shape\n"
   ]
  },
  {
   "cell_type": "code",
   "execution_count": 3,
   "metadata": {},
   "outputs": [
    {
     "data": {
      "text/plain": [
       "Index(['Unnamed: 0', 'ID', 'Name', 'Age', 'Photo', 'Nationality', 'Flag',\n",
       "       'Overall', 'Potential', 'Club', 'Club Logo', 'Value', 'Wage', 'Special',\n",
       "       'Preferred Foot', 'International Reputation', 'Weak Foot',\n",
       "       'Skill Moves', 'Work Rate', 'Body Type', 'Real Face', 'Position',\n",
       "       'Jersey Number', 'Joined', 'Loaned From', 'Contract Valid Until',\n",
       "       'Height', 'Weight', 'LS', 'ST', 'RS', 'LW', 'LF', 'CF', 'RF', 'RW',\n",
       "       'LAM', 'CAM', 'RAM', 'LM', 'LCM', 'CM', 'RCM', 'RM', 'LWB', 'LDM',\n",
       "       'CDM', 'RDM', 'RWB', 'LB', 'LCB', 'CB', 'RCB', 'RB', 'Crossing',\n",
       "       'Finishing', 'HeadingAccuracy', 'ShortPassing', 'Volleys', 'Dribbling',\n",
       "       'Curve', 'FKAccuracy', 'LongPassing', 'BallControl', 'Acceleration',\n",
       "       'SprintSpeed', 'Agility', 'Reactions', 'Balance', 'ShotPower',\n",
       "       'Jumping', 'Stamina', 'Strength', 'LongShots', 'Aggression',\n",
       "       'Interceptions', 'Positioning', 'Vision', 'Penalties', 'Composure',\n",
       "       'Marking', 'StandingTackle', 'SlidingTackle', 'GKDiving', 'GKHandling',\n",
       "       'GKKicking', 'GKPositioning', 'GKReflexes', 'Release Clause'],\n",
       "      dtype='object')"
      ]
     },
     "execution_count": 3,
     "metadata": {},
     "output_type": "execute_result"
    }
   ],
   "source": [
    "data.columns"
   ]
  },
  {
   "cell_type": "code",
   "execution_count": 4,
   "metadata": {},
   "outputs": [],
   "source": [
    "data.drop(columns=['Photo','Flag','Nationality','ID','Jersey Number','Contract Valid Until','Club Logo'],inplace=True)\n",
    "\n",
    "data.drop(columns=['Loaned From','Release Clause','Preferred Foot','Real Face','Height','Weight','Club'],inplace=True)\n",
    "\n",
    "data.drop(columns=['Wage','Joined','Weak Foot','Name','Age','Value','Body Type','Work Rate','Special'],inplace=True)"
   ]
  },
  {
   "cell_type": "code",
   "execution_count": 5,
   "metadata": {},
   "outputs": [
    {
     "data": {
      "text/plain": [
       "ST     2152\n",
       "GK     2025\n",
       "CB     1778\n",
       "CM     1394\n",
       "LB     1322\n",
       "RB     1291\n",
       "RM     1124\n",
       "LM     1095\n",
       "CAM     958\n",
       "CDM     948\n",
       "RCB     662\n",
       "LCB     648\n",
       "LCM     395\n",
       "RCM     391\n",
       "LW      381\n",
       "RW      370\n",
       "RDM     248\n",
       "LDM     243\n",
       "LS      207\n",
       "RS      203\n",
       "RWB      87\n",
       "LWB      78\n",
       "CF       74\n",
       "LAM      21\n",
       "RAM      21\n",
       "RF       16\n",
       "LF       15\n",
       "Name: Position, dtype: int64"
      ]
     },
     "execution_count": 5,
     "metadata": {},
     "output_type": "execute_result"
    }
   ],
   "source": [
    "data['Position'].value_counts()"
   ]
  },
  {
   "cell_type": "code",
   "execution_count": 6,
   "metadata": {},
   "outputs": [
    {
     "data": {
      "text/plain": [
       "(18207, 66)"
      ]
     },
     "execution_count": 6,
     "metadata": {},
     "output_type": "execute_result"
    }
   ],
   "source": [
    "data.shape"
   ]
  },
  {
   "cell_type": "code",
   "execution_count": 7,
   "metadata": {},
   "outputs": [
    {
     "data": {
      "text/html": [
       "<div>\n",
       "<style scoped>\n",
       "    .dataframe tbody tr th:only-of-type {\n",
       "        vertical-align: middle;\n",
       "    }\n",
       "\n",
       "    .dataframe tbody tr th {\n",
       "        vertical-align: top;\n",
       "    }\n",
       "\n",
       "    .dataframe thead th {\n",
       "        text-align: right;\n",
       "    }\n",
       "</style>\n",
       "<table border=\"1\" class=\"dataframe\">\n",
       "  <thead>\n",
       "    <tr style=\"text-align: right;\">\n",
       "      <th></th>\n",
       "      <th>Unnamed: 0</th>\n",
       "      <th>Overall</th>\n",
       "      <th>Potential</th>\n",
       "      <th>International Reputation</th>\n",
       "      <th>Skill Moves</th>\n",
       "      <th>Position</th>\n",
       "      <th>LS</th>\n",
       "      <th>ST</th>\n",
       "      <th>RS</th>\n",
       "      <th>LW</th>\n",
       "      <th>...</th>\n",
       "      <th>Penalties</th>\n",
       "      <th>Composure</th>\n",
       "      <th>Marking</th>\n",
       "      <th>StandingTackle</th>\n",
       "      <th>SlidingTackle</th>\n",
       "      <th>GKDiving</th>\n",
       "      <th>GKHandling</th>\n",
       "      <th>GKKicking</th>\n",
       "      <th>GKPositioning</th>\n",
       "      <th>GKReflexes</th>\n",
       "    </tr>\n",
       "  </thead>\n",
       "  <tbody>\n",
       "    <tr>\n",
       "      <th>0</th>\n",
       "      <td>0</td>\n",
       "      <td>94</td>\n",
       "      <td>94</td>\n",
       "      <td>5.0</td>\n",
       "      <td>4.0</td>\n",
       "      <td>RF</td>\n",
       "      <td>88+2</td>\n",
       "      <td>88+2</td>\n",
       "      <td>88+2</td>\n",
       "      <td>92+2</td>\n",
       "      <td>...</td>\n",
       "      <td>75.0</td>\n",
       "      <td>96.0</td>\n",
       "      <td>33.0</td>\n",
       "      <td>28.0</td>\n",
       "      <td>26.0</td>\n",
       "      <td>6.0</td>\n",
       "      <td>11.0</td>\n",
       "      <td>15.0</td>\n",
       "      <td>14.0</td>\n",
       "      <td>8.0</td>\n",
       "    </tr>\n",
       "    <tr>\n",
       "      <th>1</th>\n",
       "      <td>1</td>\n",
       "      <td>94</td>\n",
       "      <td>94</td>\n",
       "      <td>5.0</td>\n",
       "      <td>5.0</td>\n",
       "      <td>ST</td>\n",
       "      <td>91+3</td>\n",
       "      <td>91+3</td>\n",
       "      <td>91+3</td>\n",
       "      <td>89+3</td>\n",
       "      <td>...</td>\n",
       "      <td>85.0</td>\n",
       "      <td>95.0</td>\n",
       "      <td>28.0</td>\n",
       "      <td>31.0</td>\n",
       "      <td>23.0</td>\n",
       "      <td>7.0</td>\n",
       "      <td>11.0</td>\n",
       "      <td>15.0</td>\n",
       "      <td>14.0</td>\n",
       "      <td>11.0</td>\n",
       "    </tr>\n",
       "    <tr>\n",
       "      <th>2</th>\n",
       "      <td>2</td>\n",
       "      <td>92</td>\n",
       "      <td>93</td>\n",
       "      <td>5.0</td>\n",
       "      <td>5.0</td>\n",
       "      <td>LW</td>\n",
       "      <td>84+3</td>\n",
       "      <td>84+3</td>\n",
       "      <td>84+3</td>\n",
       "      <td>89+3</td>\n",
       "      <td>...</td>\n",
       "      <td>81.0</td>\n",
       "      <td>94.0</td>\n",
       "      <td>27.0</td>\n",
       "      <td>24.0</td>\n",
       "      <td>33.0</td>\n",
       "      <td>9.0</td>\n",
       "      <td>9.0</td>\n",
       "      <td>15.0</td>\n",
       "      <td>15.0</td>\n",
       "      <td>11.0</td>\n",
       "    </tr>\n",
       "    <tr>\n",
       "      <th>3</th>\n",
       "      <td>3</td>\n",
       "      <td>91</td>\n",
       "      <td>93</td>\n",
       "      <td>4.0</td>\n",
       "      <td>1.0</td>\n",
       "      <td>GK</td>\n",
       "      <td>NaN</td>\n",
       "      <td>NaN</td>\n",
       "      <td>NaN</td>\n",
       "      <td>NaN</td>\n",
       "      <td>...</td>\n",
       "      <td>40.0</td>\n",
       "      <td>68.0</td>\n",
       "      <td>15.0</td>\n",
       "      <td>21.0</td>\n",
       "      <td>13.0</td>\n",
       "      <td>90.0</td>\n",
       "      <td>85.0</td>\n",
       "      <td>87.0</td>\n",
       "      <td>88.0</td>\n",
       "      <td>94.0</td>\n",
       "    </tr>\n",
       "    <tr>\n",
       "      <th>4</th>\n",
       "      <td>4</td>\n",
       "      <td>91</td>\n",
       "      <td>92</td>\n",
       "      <td>4.0</td>\n",
       "      <td>4.0</td>\n",
       "      <td>RCM</td>\n",
       "      <td>82+3</td>\n",
       "      <td>82+3</td>\n",
       "      <td>82+3</td>\n",
       "      <td>87+3</td>\n",
       "      <td>...</td>\n",
       "      <td>79.0</td>\n",
       "      <td>88.0</td>\n",
       "      <td>68.0</td>\n",
       "      <td>58.0</td>\n",
       "      <td>51.0</td>\n",
       "      <td>15.0</td>\n",
       "      <td>13.0</td>\n",
       "      <td>5.0</td>\n",
       "      <td>10.0</td>\n",
       "      <td>13.0</td>\n",
       "    </tr>\n",
       "  </tbody>\n",
       "</table>\n",
       "<p>5 rows × 66 columns</p>\n",
       "</div>"
      ],
      "text/plain": [
       "   Unnamed: 0  Overall  Potential  International Reputation  Skill Moves  \\\n",
       "0           0       94         94                       5.0          4.0   \n",
       "1           1       94         94                       5.0          5.0   \n",
       "2           2       92         93                       5.0          5.0   \n",
       "3           3       91         93                       4.0          1.0   \n",
       "4           4       91         92                       4.0          4.0   \n",
       "\n",
       "  Position    LS    ST    RS    LW    ...     Penalties Composure Marking  \\\n",
       "0       RF  88+2  88+2  88+2  92+2    ...          75.0      96.0    33.0   \n",
       "1       ST  91+3  91+3  91+3  89+3    ...          85.0      95.0    28.0   \n",
       "2       LW  84+3  84+3  84+3  89+3    ...          81.0      94.0    27.0   \n",
       "3       GK   NaN   NaN   NaN   NaN    ...          40.0      68.0    15.0   \n",
       "4      RCM  82+3  82+3  82+3  87+3    ...          79.0      88.0    68.0   \n",
       "\n",
       "  StandingTackle SlidingTackle GKDiving GKHandling GKKicking GKPositioning  \\\n",
       "0           28.0          26.0      6.0       11.0      15.0          14.0   \n",
       "1           31.0          23.0      7.0       11.0      15.0          14.0   \n",
       "2           24.0          33.0      9.0        9.0      15.0          15.0   \n",
       "3           21.0          13.0     90.0       85.0      87.0          88.0   \n",
       "4           58.0          51.0     15.0       13.0       5.0          10.0   \n",
       "\n",
       "  GKReflexes  \n",
       "0        8.0  \n",
       "1       11.0  \n",
       "2       11.0  \n",
       "3       94.0  \n",
       "4       13.0  \n",
       "\n",
       "[5 rows x 66 columns]"
      ]
     },
     "execution_count": 7,
     "metadata": {},
     "output_type": "execute_result"
    }
   ],
   "source": [
    "data.head()"
   ]
  },
  {
   "cell_type": "code",
   "execution_count": 8,
   "metadata": {},
   "outputs": [
    {
     "name": "stdout",
     "output_type": "stream",
     "text": [
      "<class 'pandas.core.frame.DataFrame'>\n",
      "RangeIndex: 18207 entries, 0 to 18206\n",
      "Data columns (total 66 columns):\n",
      "Unnamed: 0                  18207 non-null int64\n",
      "Overall                     18207 non-null int64\n",
      "Potential                   18207 non-null int64\n",
      "International Reputation    18159 non-null float64\n",
      "Skill Moves                 18159 non-null float64\n",
      "Position                    18147 non-null object\n",
      "LS                          16122 non-null object\n",
      "ST                          16122 non-null object\n",
      "RS                          16122 non-null object\n",
      "LW                          16122 non-null object\n",
      "LF                          16122 non-null object\n",
      "CF                          16122 non-null object\n",
      "RF                          16122 non-null object\n",
      "RW                          16122 non-null object\n",
      "LAM                         16122 non-null object\n",
      "CAM                         16122 non-null object\n",
      "RAM                         16122 non-null object\n",
      "LM                          16122 non-null object\n",
      "LCM                         16122 non-null object\n",
      "CM                          16122 non-null object\n",
      "RCM                         16122 non-null object\n",
      "RM                          16122 non-null object\n",
      "LWB                         16122 non-null object\n",
      "LDM                         16122 non-null object\n",
      "CDM                         16122 non-null object\n",
      "RDM                         16122 non-null object\n",
      "RWB                         16122 non-null object\n",
      "LB                          16122 non-null object\n",
      "LCB                         16122 non-null object\n",
      "CB                          16122 non-null object\n",
      "RCB                         16122 non-null object\n",
      "RB                          16122 non-null object\n",
      "Crossing                    18159 non-null float64\n",
      "Finishing                   18159 non-null float64\n",
      "HeadingAccuracy             18159 non-null float64\n",
      "ShortPassing                18159 non-null float64\n",
      "Volleys                     18159 non-null float64\n",
      "Dribbling                   18159 non-null float64\n",
      "Curve                       18159 non-null float64\n",
      "FKAccuracy                  18159 non-null float64\n",
      "LongPassing                 18159 non-null float64\n",
      "BallControl                 18159 non-null float64\n",
      "Acceleration                18159 non-null float64\n",
      "SprintSpeed                 18159 non-null float64\n",
      "Agility                     18159 non-null float64\n",
      "Reactions                   18159 non-null float64\n",
      "Balance                     18159 non-null float64\n",
      "ShotPower                   18159 non-null float64\n",
      "Jumping                     18159 non-null float64\n",
      "Stamina                     18159 non-null float64\n",
      "Strength                    18159 non-null float64\n",
      "LongShots                   18159 non-null float64\n",
      "Aggression                  18159 non-null float64\n",
      "Interceptions               18159 non-null float64\n",
      "Positioning                 18159 non-null float64\n",
      "Vision                      18159 non-null float64\n",
      "Penalties                   18159 non-null float64\n",
      "Composure                   18159 non-null float64\n",
      "Marking                     18159 non-null float64\n",
      "StandingTackle              18159 non-null float64\n",
      "SlidingTackle               18159 non-null float64\n",
      "GKDiving                    18159 non-null float64\n",
      "GKHandling                  18159 non-null float64\n",
      "GKKicking                   18159 non-null float64\n",
      "GKPositioning               18159 non-null float64\n",
      "GKReflexes                  18159 non-null float64\n",
      "dtypes: float64(36), int64(3), object(27)\n",
      "memory usage: 9.2+ MB\n"
     ]
    }
   ],
   "source": [
    "data.info()"
   ]
  },
  {
   "cell_type": "code",
   "execution_count": 9,
   "metadata": {},
   "outputs": [],
   "source": [
    "data.drop(columns=['LS','ST','RS','LW','LF','CF','RF','RW','LAM','CAM','RAM','LM','LCM','CM','RCM','RM','LWB','LDM'],inplace=True)"
   ]
  },
  {
   "cell_type": "code",
   "execution_count": 10,
   "metadata": {},
   "outputs": [],
   "source": [
    "data.drop(columns=['CDM','RDM','RWB','LB','LCB','CB','RCB','RB','Unnamed: 0'],inplace=True)"
   ]
  },
  {
   "cell_type": "code",
   "execution_count": 11,
   "metadata": {},
   "outputs": [
    {
     "data": {
      "text/html": [
       "<div>\n",
       "<style scoped>\n",
       "    .dataframe tbody tr th:only-of-type {\n",
       "        vertical-align: middle;\n",
       "    }\n",
       "\n",
       "    .dataframe tbody tr th {\n",
       "        vertical-align: top;\n",
       "    }\n",
       "\n",
       "    .dataframe thead th {\n",
       "        text-align: right;\n",
       "    }\n",
       "</style>\n",
       "<table border=\"1\" class=\"dataframe\">\n",
       "  <thead>\n",
       "    <tr style=\"text-align: right;\">\n",
       "      <th></th>\n",
       "      <th>Overall</th>\n",
       "      <th>Potential</th>\n",
       "      <th>International Reputation</th>\n",
       "      <th>Skill Moves</th>\n",
       "      <th>Position</th>\n",
       "      <th>Crossing</th>\n",
       "      <th>Finishing</th>\n",
       "      <th>HeadingAccuracy</th>\n",
       "      <th>ShortPassing</th>\n",
       "      <th>Volleys</th>\n",
       "      <th>...</th>\n",
       "      <th>Penalties</th>\n",
       "      <th>Composure</th>\n",
       "      <th>Marking</th>\n",
       "      <th>StandingTackle</th>\n",
       "      <th>SlidingTackle</th>\n",
       "      <th>GKDiving</th>\n",
       "      <th>GKHandling</th>\n",
       "      <th>GKKicking</th>\n",
       "      <th>GKPositioning</th>\n",
       "      <th>GKReflexes</th>\n",
       "    </tr>\n",
       "  </thead>\n",
       "  <tbody>\n",
       "    <tr>\n",
       "      <th>0</th>\n",
       "      <td>94</td>\n",
       "      <td>94</td>\n",
       "      <td>5.0</td>\n",
       "      <td>4.0</td>\n",
       "      <td>RF</td>\n",
       "      <td>84.0</td>\n",
       "      <td>95.0</td>\n",
       "      <td>70.0</td>\n",
       "      <td>90.0</td>\n",
       "      <td>86.0</td>\n",
       "      <td>...</td>\n",
       "      <td>75.0</td>\n",
       "      <td>96.0</td>\n",
       "      <td>33.0</td>\n",
       "      <td>28.0</td>\n",
       "      <td>26.0</td>\n",
       "      <td>6.0</td>\n",
       "      <td>11.0</td>\n",
       "      <td>15.0</td>\n",
       "      <td>14.0</td>\n",
       "      <td>8.0</td>\n",
       "    </tr>\n",
       "    <tr>\n",
       "      <th>1</th>\n",
       "      <td>94</td>\n",
       "      <td>94</td>\n",
       "      <td>5.0</td>\n",
       "      <td>5.0</td>\n",
       "      <td>ST</td>\n",
       "      <td>84.0</td>\n",
       "      <td>94.0</td>\n",
       "      <td>89.0</td>\n",
       "      <td>81.0</td>\n",
       "      <td>87.0</td>\n",
       "      <td>...</td>\n",
       "      <td>85.0</td>\n",
       "      <td>95.0</td>\n",
       "      <td>28.0</td>\n",
       "      <td>31.0</td>\n",
       "      <td>23.0</td>\n",
       "      <td>7.0</td>\n",
       "      <td>11.0</td>\n",
       "      <td>15.0</td>\n",
       "      <td>14.0</td>\n",
       "      <td>11.0</td>\n",
       "    </tr>\n",
       "    <tr>\n",
       "      <th>2</th>\n",
       "      <td>92</td>\n",
       "      <td>93</td>\n",
       "      <td>5.0</td>\n",
       "      <td>5.0</td>\n",
       "      <td>LW</td>\n",
       "      <td>79.0</td>\n",
       "      <td>87.0</td>\n",
       "      <td>62.0</td>\n",
       "      <td>84.0</td>\n",
       "      <td>84.0</td>\n",
       "      <td>...</td>\n",
       "      <td>81.0</td>\n",
       "      <td>94.0</td>\n",
       "      <td>27.0</td>\n",
       "      <td>24.0</td>\n",
       "      <td>33.0</td>\n",
       "      <td>9.0</td>\n",
       "      <td>9.0</td>\n",
       "      <td>15.0</td>\n",
       "      <td>15.0</td>\n",
       "      <td>11.0</td>\n",
       "    </tr>\n",
       "    <tr>\n",
       "      <th>3</th>\n",
       "      <td>91</td>\n",
       "      <td>93</td>\n",
       "      <td>4.0</td>\n",
       "      <td>1.0</td>\n",
       "      <td>GK</td>\n",
       "      <td>17.0</td>\n",
       "      <td>13.0</td>\n",
       "      <td>21.0</td>\n",
       "      <td>50.0</td>\n",
       "      <td>13.0</td>\n",
       "      <td>...</td>\n",
       "      <td>40.0</td>\n",
       "      <td>68.0</td>\n",
       "      <td>15.0</td>\n",
       "      <td>21.0</td>\n",
       "      <td>13.0</td>\n",
       "      <td>90.0</td>\n",
       "      <td>85.0</td>\n",
       "      <td>87.0</td>\n",
       "      <td>88.0</td>\n",
       "      <td>94.0</td>\n",
       "    </tr>\n",
       "    <tr>\n",
       "      <th>4</th>\n",
       "      <td>91</td>\n",
       "      <td>92</td>\n",
       "      <td>4.0</td>\n",
       "      <td>4.0</td>\n",
       "      <td>RCM</td>\n",
       "      <td>93.0</td>\n",
       "      <td>82.0</td>\n",
       "      <td>55.0</td>\n",
       "      <td>92.0</td>\n",
       "      <td>82.0</td>\n",
       "      <td>...</td>\n",
       "      <td>79.0</td>\n",
       "      <td>88.0</td>\n",
       "      <td>68.0</td>\n",
       "      <td>58.0</td>\n",
       "      <td>51.0</td>\n",
       "      <td>15.0</td>\n",
       "      <td>13.0</td>\n",
       "      <td>5.0</td>\n",
       "      <td>10.0</td>\n",
       "      <td>13.0</td>\n",
       "    </tr>\n",
       "  </tbody>\n",
       "</table>\n",
       "<p>5 rows × 39 columns</p>\n",
       "</div>"
      ],
      "text/plain": [
       "   Overall  Potential  International Reputation  Skill Moves Position  \\\n",
       "0       94         94                       5.0          4.0       RF   \n",
       "1       94         94                       5.0          5.0       ST   \n",
       "2       92         93                       5.0          5.0       LW   \n",
       "3       91         93                       4.0          1.0       GK   \n",
       "4       91         92                       4.0          4.0      RCM   \n",
       "\n",
       "   Crossing  Finishing  HeadingAccuracy  ShortPassing  Volleys     ...      \\\n",
       "0      84.0       95.0             70.0          90.0     86.0     ...       \n",
       "1      84.0       94.0             89.0          81.0     87.0     ...       \n",
       "2      79.0       87.0             62.0          84.0     84.0     ...       \n",
       "3      17.0       13.0             21.0          50.0     13.0     ...       \n",
       "4      93.0       82.0             55.0          92.0     82.0     ...       \n",
       "\n",
       "   Penalties  Composure  Marking  StandingTackle  SlidingTackle  GKDiving  \\\n",
       "0       75.0       96.0     33.0            28.0           26.0       6.0   \n",
       "1       85.0       95.0     28.0            31.0           23.0       7.0   \n",
       "2       81.0       94.0     27.0            24.0           33.0       9.0   \n",
       "3       40.0       68.0     15.0            21.0           13.0      90.0   \n",
       "4       79.0       88.0     68.0            58.0           51.0      15.0   \n",
       "\n",
       "   GKHandling  GKKicking  GKPositioning  GKReflexes  \n",
       "0        11.0       15.0           14.0         8.0  \n",
       "1        11.0       15.0           14.0        11.0  \n",
       "2         9.0       15.0           15.0        11.0  \n",
       "3        85.0       87.0           88.0        94.0  \n",
       "4        13.0        5.0           10.0        13.0  \n",
       "\n",
       "[5 rows x 39 columns]"
      ]
     },
     "execution_count": 11,
     "metadata": {},
     "output_type": "execute_result"
    }
   ],
   "source": [
    "data.head()"
   ]
  },
  {
   "cell_type": "code",
   "execution_count": 12,
   "metadata": {},
   "outputs": [
    {
     "data": {
      "text/plain": [
       "(15397, 38)"
      ]
     },
     "execution_count": 12,
     "metadata": {},
     "output_type": "execute_result"
    }
   ],
   "source": [
    "data=data[data['Position'].isin(['ST','GK','CB','CM','LB','RB','RM','LM','CAM','CDM','RCB','LCB'])]\n",
    "data.drop(columns=['Position'],inplace=True)\n",
    "data.shape"
   ]
  },
  {
   "cell_type": "code",
   "execution_count": null,
   "metadata": {},
   "outputs": [],
   "source": []
  },
  {
   "cell_type": "code",
   "execution_count": 13,
   "metadata": {},
   "outputs": [
    {
     "data": {
      "text/plain": [
       "Index(['Overall', 'Potential', 'International Reputation', 'Skill Moves',\n",
       "       'Crossing', 'Finishing', 'HeadingAccuracy', 'ShortPassing', 'Volleys',\n",
       "       'Dribbling', 'Curve', 'FKAccuracy', 'LongPassing', 'BallControl',\n",
       "       'Acceleration', 'SprintSpeed', 'Agility', 'Reactions', 'Balance',\n",
       "       'ShotPower', 'Jumping', 'Stamina', 'Strength', 'LongShots',\n",
       "       'Aggression', 'Interceptions', 'Positioning', 'Vision', 'Penalties',\n",
       "       'Composure', 'Marking', 'StandingTackle', 'SlidingTackle', 'GKDiving',\n",
       "       'GKHandling', 'GKKicking', 'GKPositioning', 'GKReflexes'],\n",
       "      dtype='object')"
      ]
     },
     "execution_count": 13,
     "metadata": {},
     "output_type": "execute_result"
    }
   ],
   "source": [
    "data.columns"
   ]
  },
  {
   "cell_type": "code",
   "execution_count": 14,
   "metadata": {},
   "outputs": [],
   "source": [
    "def pace(column):\n",
    "    return (column['Acceleration']*0.45) + (column['SprintSpeed']*0.55)\n",
    "data['Pace'] = data.apply(pace, axis=1)\n",
    "data.drop(columns=['Acceleration','SprintSpeed'],inplace=True)"
   ]
  },
  {
   "cell_type": "code",
   "execution_count": 15,
   "metadata": {},
   "outputs": [],
   "source": [
    "def passing(column):\n",
    "    return (column['ShortPassing']*0.35) + (column['Crossing']*0.20) + (column['Vision']*0.20) + (column['LongPassing']*0.15) + (column['Curve']*0.05) + (column['FKAccuracy']*0.05)\n",
    "data['Passing'] = data.apply(passing, axis=1)\n",
    "data.drop(columns=['ShortPassing','Crossing','Vision','LongPassing','Curve','FKAccuracy'],inplace=True)"
   ]
  },
  {
   "cell_type": "code",
   "execution_count": 16,
   "metadata": {},
   "outputs": [],
   "source": [
    "def defending(column):\n",
    "    return (column['StandingTackle']*0.30) + (column['Marking']*0.30) + (column['Interceptions']*0.20) + (column['HeadingAccuracy']*0.10) + (column['SlidingTackle']*0.10)\n",
    "data['Defending'] = data.apply(defending, axis=1)\n",
    "data.drop(columns=['StandingTackle','Marking','Interceptions','HeadingAccuracy','SlidingTackle'],inplace=True)"
   ]
  },
  {
   "cell_type": "code",
   "execution_count": 17,
   "metadata": {},
   "outputs": [],
   "source": [
    "def shooting(column):\n",
    "    return (column['Finishing']*0.45) + (column['LongShots']*0.20) + (column['ShotPower']*0.20) + (column['Volleys']*0.05) + (column['Positioning']*0.05) + (column['Penalties']*0.05)\n",
    "data['Shooting'] = data.apply(shooting, axis=1)\n",
    "data.drop(columns=['Finishing','LongShots','ShotPower','Volleys','Positioning','Penalties'],inplace=True)"
   ]
  },
  {
   "cell_type": "code",
   "execution_count": 18,
   "metadata": {},
   "outputs": [],
   "source": [
    "def dribbling(column):\n",
    "    return (column['Dribbling']*0.50) + (column['BallControl']*0.35) + (column['Agility']*0.10) + (column['Balance']*0.05)\n",
    "data['Dribblings'] = data.apply(dribbling, axis=1)\n",
    "data.drop(columns=['Dribbling','BallControl','Agility','Balance'],inplace=True)"
   ]
  },
  {
   "cell_type": "code",
   "execution_count": 19,
   "metadata": {},
   "outputs": [],
   "source": [
    "def physical(column):\n",
    "    return (column['Strength']*0.50) + (column['Stamina']*0.25) + (column['Aggression']*0.20) + (column['Jumping']*0.05)\n",
    "data['Physical'] = data.apply(physical, axis=1)\n",
    "data.drop(columns=['Strength','Stamina','Aggression','Jumping'],inplace=True)"
   ]
  },
  {
   "cell_type": "code",
   "execution_count": 20,
   "metadata": {},
   "outputs": [],
   "source": [
    "def GK(column):\n",
    "    return (column['GKDiving']*0.20) + (column['GKHandling']*0.20) + (column['GKKicking']*0.20) + (column['GKPositioning']*0.20) + (column['GKReflexes']*0.20)\n",
    "data['GK'] = data.apply(GK, axis=1)\n",
    "data.drop(columns=['GKDiving','GKHandling','GKKicking','GKPositioning','GKReflexes'],inplace=True)"
   ]
  },
  {
   "cell_type": "code",
   "execution_count": 21,
   "metadata": {},
   "outputs": [
    {
     "data": {
      "text/html": [
       "<div>\n",
       "<style scoped>\n",
       "    .dataframe tbody tr th:only-of-type {\n",
       "        vertical-align: middle;\n",
       "    }\n",
       "\n",
       "    .dataframe tbody tr th {\n",
       "        vertical-align: top;\n",
       "    }\n",
       "\n",
       "    .dataframe thead th {\n",
       "        text-align: right;\n",
       "    }\n",
       "</style>\n",
       "<table border=\"1\" class=\"dataframe\">\n",
       "  <thead>\n",
       "    <tr style=\"text-align: right;\">\n",
       "      <th></th>\n",
       "      <th>Overall</th>\n",
       "      <th>Potential</th>\n",
       "      <th>International Reputation</th>\n",
       "      <th>Skill Moves</th>\n",
       "      <th>Reactions</th>\n",
       "      <th>Composure</th>\n",
       "      <th>Pace</th>\n",
       "      <th>Passing</th>\n",
       "      <th>Defending</th>\n",
       "      <th>Shooting</th>\n",
       "      <th>Dribblings</th>\n",
       "      <th>Physical</th>\n",
       "      <th>GK</th>\n",
       "    </tr>\n",
       "  </thead>\n",
       "  <tbody>\n",
       "    <tr>\n",
       "      <th>1</th>\n",
       "      <td>94</td>\n",
       "      <td>94</td>\n",
       "      <td>5.0</td>\n",
       "      <td>5.0</td>\n",
       "      <td>96.0</td>\n",
       "      <td>95.0</td>\n",
       "      <td>90.10</td>\n",
       "      <td>80.95</td>\n",
       "      <td>34.7</td>\n",
       "      <td>93.25</td>\n",
       "      <td>89.10</td>\n",
       "      <td>78.85</td>\n",
       "      <td>11.6</td>\n",
       "    </tr>\n",
       "    <tr>\n",
       "      <th>3</th>\n",
       "      <td>91</td>\n",
       "      <td>93</td>\n",
       "      <td>4.0</td>\n",
       "      <td>1.0</td>\n",
       "      <td>90.0</td>\n",
       "      <td>68.0</td>\n",
       "      <td>57.55</td>\n",
       "      <td>44.15</td>\n",
       "      <td>20.2</td>\n",
       "      <td>17.70</td>\n",
       "      <td>31.85</td>\n",
       "      <td>53.70</td>\n",
       "      <td>88.8</td>\n",
       "    </tr>\n",
       "    <tr>\n",
       "      <th>8</th>\n",
       "      <td>91</td>\n",
       "      <td>91</td>\n",
       "      <td>4.0</td>\n",
       "      <td>3.0</td>\n",
       "      <td>85.0</td>\n",
       "      <td>82.0</td>\n",
       "      <td>75.45</td>\n",
       "      <td>71.95</td>\n",
       "      <td>89.9</td>\n",
       "      <td>64.65</td>\n",
       "      <td>72.00</td>\n",
       "      <td>84.75</td>\n",
       "      <td>9.2</td>\n",
       "    </tr>\n",
       "    <tr>\n",
       "      <th>9</th>\n",
       "      <td>90</td>\n",
       "      <td>93</td>\n",
       "      <td>3.0</td>\n",
       "      <td>1.0</td>\n",
       "      <td>86.0</td>\n",
       "      <td>70.0</td>\n",
       "      <td>52.35</td>\n",
       "      <td>32.00</td>\n",
       "      <td>18.8</td>\n",
       "      <td>13.50</td>\n",
       "      <td>20.75</td>\n",
       "      <td>59.85</td>\n",
       "      <td>86.6</td>\n",
       "    </tr>\n",
       "    <tr>\n",
       "      <th>10</th>\n",
       "      <td>90</td>\n",
       "      <td>90</td>\n",
       "      <td>4.0</td>\n",
       "      <td>4.0</td>\n",
       "      <td>90.0</td>\n",
       "      <td>86.0</td>\n",
       "      <td>77.55</td>\n",
       "      <td>74.75</td>\n",
       "      <td>41.0</td>\n",
       "      <td>88.75</td>\n",
       "      <td>85.35</td>\n",
       "      <td>81.70</td>\n",
       "      <td>10.2</td>\n",
       "    </tr>\n",
       "  </tbody>\n",
       "</table>\n",
       "</div>"
      ],
      "text/plain": [
       "    Overall  Potential  International Reputation  Skill Moves  Reactions  \\\n",
       "1        94         94                       5.0          5.0       96.0   \n",
       "3        91         93                       4.0          1.0       90.0   \n",
       "8        91         91                       4.0          3.0       85.0   \n",
       "9        90         93                       3.0          1.0       86.0   \n",
       "10       90         90                       4.0          4.0       90.0   \n",
       "\n",
       "    Composure   Pace  Passing  Defending  Shooting  Dribblings  Physical    GK  \n",
       "1        95.0  90.10    80.95       34.7     93.25       89.10     78.85  11.6  \n",
       "3        68.0  57.55    44.15       20.2     17.70       31.85     53.70  88.8  \n",
       "8        82.0  75.45    71.95       89.9     64.65       72.00     84.75   9.2  \n",
       "9        70.0  52.35    32.00       18.8     13.50       20.75     59.85  86.6  \n",
       "10       86.0  77.55    74.75       41.0     88.75       85.35     81.70  10.2  "
      ]
     },
     "execution_count": 21,
     "metadata": {},
     "output_type": "execute_result"
    }
   ],
   "source": [
    "data.head()"
   ]
  },
  {
   "cell_type": "code",
   "execution_count": 22,
   "metadata": {},
   "outputs": [],
   "source": [
    "cols = ['Potential','Skill Moves','Reactions','Composure','Pace','Passing','Defending','Shooting','Dribblings','Physical','GK','Overall']"
   ]
  },
  {
   "cell_type": "code",
   "execution_count": 23,
   "metadata": {},
   "outputs": [],
   "source": [
    "data = data[cols]"
   ]
  },
  {
   "cell_type": "code",
   "execution_count": 24,
   "metadata": {},
   "outputs": [
    {
     "data": {
      "text/html": [
       "<div>\n",
       "<style scoped>\n",
       "    .dataframe tbody tr th:only-of-type {\n",
       "        vertical-align: middle;\n",
       "    }\n",
       "\n",
       "    .dataframe tbody tr th {\n",
       "        vertical-align: top;\n",
       "    }\n",
       "\n",
       "    .dataframe thead th {\n",
       "        text-align: right;\n",
       "    }\n",
       "</style>\n",
       "<table border=\"1\" class=\"dataframe\">\n",
       "  <thead>\n",
       "    <tr style=\"text-align: right;\">\n",
       "      <th></th>\n",
       "      <th>Potential</th>\n",
       "      <th>Skill Moves</th>\n",
       "      <th>Reactions</th>\n",
       "      <th>Composure</th>\n",
       "      <th>Pace</th>\n",
       "      <th>Passing</th>\n",
       "      <th>Defending</th>\n",
       "      <th>Shooting</th>\n",
       "      <th>Dribblings</th>\n",
       "      <th>Physical</th>\n",
       "      <th>GK</th>\n",
       "      <th>Overall</th>\n",
       "    </tr>\n",
       "  </thead>\n",
       "  <tbody>\n",
       "    <tr>\n",
       "      <th>1</th>\n",
       "      <td>94</td>\n",
       "      <td>5.0</td>\n",
       "      <td>96.0</td>\n",
       "      <td>95.0</td>\n",
       "      <td>90.10</td>\n",
       "      <td>80.95</td>\n",
       "      <td>34.7</td>\n",
       "      <td>93.25</td>\n",
       "      <td>89.10</td>\n",
       "      <td>78.85</td>\n",
       "      <td>11.6</td>\n",
       "      <td>94</td>\n",
       "    </tr>\n",
       "    <tr>\n",
       "      <th>3</th>\n",
       "      <td>93</td>\n",
       "      <td>1.0</td>\n",
       "      <td>90.0</td>\n",
       "      <td>68.0</td>\n",
       "      <td>57.55</td>\n",
       "      <td>44.15</td>\n",
       "      <td>20.2</td>\n",
       "      <td>17.70</td>\n",
       "      <td>31.85</td>\n",
       "      <td>53.70</td>\n",
       "      <td>88.8</td>\n",
       "      <td>91</td>\n",
       "    </tr>\n",
       "    <tr>\n",
       "      <th>8</th>\n",
       "      <td>91</td>\n",
       "      <td>3.0</td>\n",
       "      <td>85.0</td>\n",
       "      <td>82.0</td>\n",
       "      <td>75.45</td>\n",
       "      <td>71.95</td>\n",
       "      <td>89.9</td>\n",
       "      <td>64.65</td>\n",
       "      <td>72.00</td>\n",
       "      <td>84.75</td>\n",
       "      <td>9.2</td>\n",
       "      <td>91</td>\n",
       "    </tr>\n",
       "    <tr>\n",
       "      <th>9</th>\n",
       "      <td>93</td>\n",
       "      <td>1.0</td>\n",
       "      <td>86.0</td>\n",
       "      <td>70.0</td>\n",
       "      <td>52.35</td>\n",
       "      <td>32.00</td>\n",
       "      <td>18.8</td>\n",
       "      <td>13.50</td>\n",
       "      <td>20.75</td>\n",
       "      <td>59.85</td>\n",
       "      <td>86.6</td>\n",
       "      <td>90</td>\n",
       "    </tr>\n",
       "    <tr>\n",
       "      <th>10</th>\n",
       "      <td>90</td>\n",
       "      <td>4.0</td>\n",
       "      <td>90.0</td>\n",
       "      <td>86.0</td>\n",
       "      <td>77.55</td>\n",
       "      <td>74.75</td>\n",
       "      <td>41.0</td>\n",
       "      <td>88.75</td>\n",
       "      <td>85.35</td>\n",
       "      <td>81.70</td>\n",
       "      <td>10.2</td>\n",
       "      <td>90</td>\n",
       "    </tr>\n",
       "  </tbody>\n",
       "</table>\n",
       "</div>"
      ],
      "text/plain": [
       "    Potential  Skill Moves  Reactions  Composure   Pace  Passing  Defending  \\\n",
       "1          94          5.0       96.0       95.0  90.10    80.95       34.7   \n",
       "3          93          1.0       90.0       68.0  57.55    44.15       20.2   \n",
       "8          91          3.0       85.0       82.0  75.45    71.95       89.9   \n",
       "9          93          1.0       86.0       70.0  52.35    32.00       18.8   \n",
       "10         90          4.0       90.0       86.0  77.55    74.75       41.0   \n",
       "\n",
       "    Shooting  Dribblings  Physical    GK  Overall  \n",
       "1      93.25       89.10     78.85  11.6       94  \n",
       "3      17.70       31.85     53.70  88.8       91  \n",
       "8      64.65       72.00     84.75   9.2       91  \n",
       "9      13.50       20.75     59.85  86.6       90  \n",
       "10     88.75       85.35     81.70  10.2       90  "
      ]
     },
     "execution_count": 24,
     "metadata": {},
     "output_type": "execute_result"
    }
   ],
   "source": [
    "data.head()"
   ]
  },
  {
   "cell_type": "code",
   "execution_count": 25,
   "metadata": {},
   "outputs": [],
   "source": [
    "X=data.iloc[:,:-1].values\n",
    "y=data.iloc[:,-1].values"
   ]
  },
  {
   "cell_type": "code",
   "execution_count": 26,
   "metadata": {},
   "outputs": [
    {
     "name": "stderr",
     "output_type": "stream",
     "text": [
      "/anaconda3/lib/python3.6/site-packages/sklearn/cross_validation.py:41: DeprecationWarning: This module was deprecated in version 0.18 in favor of the model_selection module into which all the refactored classes and functions are moved. Also note that the interface of the new CV iterators are different from that of this module. This module will be removed in 0.20.\n",
      "  \"This module will be removed in 0.20.\", DeprecationWarning)\n"
     ]
    }
   ],
   "source": [
    "from sklearn.cross_validation import train_test_split\n",
    "Xtrain,Xtest,ytrain,ytest=train_test_split(X,y,test_size=0.2,random_state=9)"
   ]
  },
  {
   "cell_type": "code",
   "execution_count": 27,
   "metadata": {},
   "outputs": [
    {
     "data": {
      "text/plain": [
       "(12317, 11)"
      ]
     },
     "execution_count": 27,
     "metadata": {},
     "output_type": "execute_result"
    }
   ],
   "source": [
    "Xtrain.shape"
   ]
  },
  {
   "cell_type": "code",
   "execution_count": 28,
   "metadata": {},
   "outputs": [],
   "source": [
    "from sklearn.linear_model import LinearRegression\n",
    "reg=LinearRegression()"
   ]
  },
  {
   "cell_type": "code",
   "execution_count": 29,
   "metadata": {},
   "outputs": [
    {
     "data": {
      "text/plain": [
       "LinearRegression(copy_X=True, fit_intercept=True, n_jobs=1, normalize=False)"
      ]
     },
     "execution_count": 29,
     "metadata": {},
     "output_type": "execute_result"
    }
   ],
   "source": [
    "reg.fit(Xtrain,ytrain)"
   ]
  },
  {
   "cell_type": "code",
   "execution_count": 30,
   "metadata": {},
   "outputs": [],
   "source": [
    "ypred=reg.predict(Xtest)"
   ]
  },
  {
   "cell_type": "code",
   "execution_count": 31,
   "metadata": {},
   "outputs": [
    {
     "data": {
      "text/plain": [
       "0.8713981981589611"
      ]
     },
     "execution_count": 31,
     "metadata": {},
     "output_type": "execute_result"
    }
   ],
   "source": [
    "from sklearn.metrics import r2_score\n",
    "r2_score(ytest,ypred)"
   ]
  },
  {
   "cell_type": "code",
   "execution_count": null,
   "metadata": {},
   "outputs": [],
   "source": []
  }
 ],
 "metadata": {
  "kernelspec": {
   "display_name": "Python 3",
   "language": "python",
   "name": "python3"
  },
  "language_info": {
   "codemirror_mode": {
    "name": "ipython",
    "version": 3
   },
   "file_extension": ".py",
   "mimetype": "text/x-python",
   "name": "python",
   "nbconvert_exporter": "python",
   "pygments_lexer": "ipython3",
   "version": "3.6.5"
  }
 },
 "nbformat": 4,
 "nbformat_minor": 2
}
